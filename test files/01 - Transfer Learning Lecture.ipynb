{
 "cells": [
  {
   "cell_type": "markdown",
   "metadata": {
    "colab_type": "text",
    "id": "S4obUluXRUAP"
   },
   "source": [
    "## Transfer Learning\n",
    "\n",
    "**Let someone else do the hard work**\n",
    "\n",
    "You have:\n",
    "\n",
    "* 1000-10000 training images\n",
    "* millions of parameters to fit\n",
    "\n",
    "Can we somehow utilize complex CNNs that have been trained on lots of data?\n",
    "\n",
    "Outcome:\n",
    "\n",
    "* no overfitting\n",
    "* less data required\n",
    "* faster training"
   ]
  },
  {
   "cell_type": "markdown",
   "metadata": {},
   "source": [
    "### Structure of  a CNN:\n",
    "\n",
    "    with 64 feature maps in the last convolutional layer\n",
    "    \n",
    "              X -> CNN layers      -> Flatten -> Dense -> output layer -> y\n",
    "                   (kernel + pool) \n",
    "         \n",
    "    (N, 28, 28, 1) (N, 7, 7, 64)      (N, 3136)  (N, 100) (N, 10)\n",
    "    \n",
    "                                      ^^^^^^\n",
    "                                      this we know!\n",
    "                                      \n",
    "                                      it is a dataset with N points\n",
    "                                      and 3136 features"
   ]
  },
  {
   "cell_type": "markdown",
   "metadata": {},
   "source": [
    "### Image Recognition\n",
    "\n",
    "* input are images (elephants, cars, cats)\n",
    "* CNN finds features and their position (trunk, tusk, wheel, cat ears, fur)\n",
    "* after flattening we have a vector of (trunk, tusk, wheel, cat ears, fur)\n",
    "* output are probs (p(ele), p(car), p(cat)"
   ]
  },
  {
   "cell_type": "markdown",
   "metadata": {},
   "source": [
    "**cut off the output layer**\n",
    "\n",
    "* new output is going to be a feature vector\n",
    "* we can use the features to train a new model!\n",
    "* add a new output (p(fox), p(plane))\n",
    "\n",
    "We can train LogReg, SVM or a ANN"
   ]
  },
  {
   "cell_type": "code",
   "execution_count": 24,
   "metadata": {
    "colab": {
     "base_uri": "https://localhost:8080/",
     "height": 83
    },
    "colab_type": "code",
    "id": "g0YXLsMK_bXn",
    "outputId": "c5669e78-0b14-4c65-c96c-9b5e7f7ed772"
   },
   "outputs": [],
   "source": [
    "import tensorflow as tf\n",
    "from matplotlib import pyplot as plt"
   ]
  },
  {
   "cell_type": "code",
   "execution_count": 2,
   "metadata": {
    "colab": {
     "base_uri": "https://localhost:8080/",
     "height": 71
    },
    "colab_type": "code",
    "id": "Qz6tzJif__Nn",
    "outputId": "e4528de8-702a-43de-db9a-1fc2c4035861"
   },
   "outputs": [
    {
     "data": {
      "text/plain": [
       "((60000, 28, 28), (10000, 28, 28))"
      ]
     },
     "execution_count": 2,
     "metadata": {},
     "output_type": "execute_result"
    }
   ],
   "source": [
    "# Datasets\n",
    "mnist = tf.keras.datasets.mnist\n",
    "(x_train, y_train),(x_test, y_test) = mnist.load_data()\n",
    "\n",
    "x_train.shape, x_test.shape"
   ]
  },
  {
   "cell_type": "code",
   "execution_count": 3,
   "metadata": {
    "colab": {},
    "colab_type": "code",
    "id": "ZacJWniPvhUG"
   },
   "outputs": [],
   "source": [
    "x_train = x_train / 255.0\n",
    "x_test = x_test / 255.0"
   ]
  },
  {
   "cell_type": "code",
   "execution_count": 4,
   "metadata": {
    "colab": {
     "base_uri": "https://localhost:8080/",
     "height": 35
    },
    "colab_type": "code",
    "id": "_QlN3fw6S9CP",
    "outputId": "49fb29c0-5c42-4b35-c64c-7f7ddcd80a55"
   },
   "outputs": [
    {
     "data": {
      "text/plain": [
       "((29404, 28, 28), (30596, 28, 28))"
      ]
     },
     "execution_count": 4,
     "metadata": {},
     "output_type": "execute_result"
    }
   ],
   "source": [
    "xlower = x_train[y_train < 5]\n",
    "ylower = y_train[y_train < 5]\n",
    "xupper = x_train[y_train >= 5]\n",
    "yupper = y_train[y_train >= 5]\n",
    "xupper.shape, xlower.shape"
   ]
  },
  {
   "cell_type": "code",
   "execution_count": 5,
   "metadata": {},
   "outputs": [
    {
     "data": {
      "text/plain": [
       "((4861, 28, 28), (5139, 28, 28))"
      ]
     },
     "execution_count": 5,
     "metadata": {},
     "output_type": "execute_result"
    }
   ],
   "source": [
    "x_test_lower = x_test[y_test < 5]\n",
    "y_test_lower = y_test[y_test < 5]\n",
    "x_test_upper = x_test[y_test >= 5]\n",
    "y_test_upper = y_test[y_test >= 5]\n",
    "x_test_upper.shape, x_test_lower.shape"
   ]
  },
  {
   "cell_type": "code",
   "execution_count": 6,
   "metadata": {
    "colab": {},
    "colab_type": "code",
    "id": "3xl3-oEju-i3"
   },
   "outputs": [],
   "source": [
    "from tensorflow.keras.utils import to_categorical"
   ]
  },
  {
   "cell_type": "code",
   "execution_count": 9,
   "metadata": {
    "colab": {},
    "colab_type": "code",
    "id": "xJ37oYGmS1ee"
   },
   "outputs": [],
   "source": [
    "import numpy as np\n",
    "x = xlower.astype(np.float32)\n",
    "y = to_categorical(ylower)\n",
    "x = xlower.reshape(30596, 28, 28, 1)"
   ]
  },
  {
   "cell_type": "code",
   "execution_count": 10,
   "metadata": {},
   "outputs": [],
   "source": [
    "x_test_lower = x_test_lower.astype(np.float32)\n",
    "x_test_lower = x_test_lower.reshape(5139,28,28,1)\n",
    "y_test_lower = to_categorical(y_test_lower)"
   ]
  },
  {
   "cell_type": "code",
   "execution_count": 11,
   "metadata": {
    "colab": {},
    "colab_type": "code",
    "id": "Usf1GIN3x_l6"
   },
   "outputs": [],
   "source": [
    "from tensorflow.keras import backend as K\n",
    "K.clear_session()"
   ]
  },
  {
   "cell_type": "code",
   "execution_count": 12,
   "metadata": {
    "colab": {},
    "colab_type": "code",
    "id": "_TjaGBma_feF"
   },
   "outputs": [
    {
     "name": "stdout",
     "output_type": "stream",
     "text": [
      "WARNING:tensorflow:From /opt/anaconda3/envs/tf/lib/python3.6/site-packages/tensorflow/python/ops/resource_variable_ops.py:435: colocate_with (from tensorflow.python.framework.ops) is deprecated and will be removed in a future version.\n",
      "Instructions for updating:\n",
      "Colocations handled automatically by placer.\n"
     ]
    }
   ],
   "source": [
    "from tensorflow.keras.models import Sequential\n",
    "from tensorflow.keras.layers import Flatten, Dense, Dropout, Conv2D, BatchNormalization, MaxPool2D\n",
    "\n",
    "model = Sequential([\n",
    "  Conv2D(10, kernel_size=(3,3), activation='relu', input_shape=(28, 28, 1)),   # normal layer with feed-forward neurons\n",
    "  BatchNormalization(),\n",
    "  MaxPool2D((2,2)),\n",
    "  Flatten(),\n",
    "  Dense(20),\n",
    "  Dense(5, activation='softmax')\n",
    "])"
   ]
  },
  {
   "cell_type": "code",
   "execution_count": 13,
   "metadata": {
    "colab": {
     "base_uri": "https://localhost:8080/",
     "height": 379
    },
    "colab_type": "code",
    "id": "5epB_BcRWBec",
    "outputId": "d987ed5b-138f-452b-9f08-87871ff43d33"
   },
   "outputs": [
    {
     "name": "stdout",
     "output_type": "stream",
     "text": [
      "_________________________________________________________________\n",
      "Layer (type)                 Output Shape              Param #   \n",
      "=================================================================\n",
      "conv2d (Conv2D)              (None, 26, 26, 10)        100       \n",
      "_________________________________________________________________\n",
      "batch_normalization_v1 (Batc (None, 26, 26, 10)        40        \n",
      "_________________________________________________________________\n",
      "max_pooling2d (MaxPooling2D) (None, 13, 13, 10)        0         \n",
      "_________________________________________________________________\n",
      "flatten (Flatten)            (None, 1690)              0         \n",
      "_________________________________________________________________\n",
      "dense (Dense)                (None, 20)                33820     \n",
      "_________________________________________________________________\n",
      "dense_1 (Dense)              (None, 5)                 105       \n",
      "=================================================================\n",
      "Total params: 34,065\n",
      "Trainable params: 34,045\n",
      "Non-trainable params: 20\n",
      "_________________________________________________________________\n"
     ]
    }
   ],
   "source": [
    "model.summary()"
   ]
  },
  {
   "cell_type": "code",
   "execution_count": 14,
   "metadata": {
    "colab": {},
    "colab_type": "code",
    "id": "ieRNkeCmUXPs"
   },
   "outputs": [],
   "source": [
    "# construct a \"computation graph\" behind the scenes\n",
    "model.compile(optimizer='adam',\n",
    "              loss='categorical_crossentropy', metrics=['accuracy'])"
   ]
  },
  {
   "cell_type": "code",
   "execution_count": 15,
   "metadata": {
    "colab": {
     "base_uri": "https://localhost:8080/",
     "height": 35
    },
    "colab_type": "code",
    "id": "Ely9V8DsxrDs",
    "outputId": "59999a76-0811-4d85-e5ef-801355b1065b"
   },
   "outputs": [
    {
     "data": {
      "text/plain": [
       "((30596, 28, 28, 1), (30596, 5))"
      ]
     },
     "execution_count": 15,
     "metadata": {},
     "output_type": "execute_result"
    }
   ],
   "source": [
    "x.shape, y.shape"
   ]
  },
  {
   "cell_type": "code",
   "execution_count": 16,
   "metadata": {
    "colab": {
     "base_uri": "https://localhost:8080/",
     "height": 941
    },
    "colab_type": "code",
    "id": "B52iY5i-_hwT",
    "outputId": "21fe46b5-4936-43f2-acea-bb1410b71460"
   },
   "outputs": [
    {
     "name": "stdout",
     "output_type": "stream",
     "text": [
      "WARNING:tensorflow:From /opt/anaconda3/envs/tf/lib/python3.6/site-packages/tensorflow/python/ops/math_ops.py:3066: to_int32 (from tensorflow.python.ops.math_ops) is deprecated and will be removed in a future version.\n",
      "Instructions for updating:\n",
      "Use tf.cast instead.\n",
      "Epoch 1/10\n",
      "30596/30596 [==============================] - 7s 227us/sample - loss: 0.3268 - acc: 0.8881\n",
      "Epoch 2/10\n",
      "30596/30596 [==============================] - 6s 209us/sample - loss: 0.0959 - acc: 0.9716\n",
      "Epoch 3/10\n",
      "30596/30596 [==============================] - 6s 209us/sample - loss: 0.0670 - acc: 0.9803\n",
      "Epoch 4/10\n",
      "30596/30596 [==============================] - 6s 212us/sample - loss: 0.0502 - acc: 0.9846\n",
      "Epoch 5/10\n",
      "30596/30596 [==============================] - 6s 212us/sample - loss: 0.0386 - acc: 0.9885\n",
      "Epoch 6/10\n",
      "30596/30596 [==============================] - 7s 224us/sample - loss: 0.0304 - acc: 0.9912\n",
      "Epoch 7/10\n",
      "30596/30596 [==============================] - 6s 211us/sample - loss: 0.0257 - acc: 0.9926\n",
      "Epoch 8/10\n",
      "30596/30596 [==============================] - 7s 223us/sample - loss: 0.0223 - acc: 0.9941\n",
      "Epoch 9/10\n",
      "30596/30596 [==============================] - 6s 210us/sample - loss: 0.0190 - acc: 0.9950\n",
      "Epoch 10/10\n",
      "30596/30596 [==============================] - 6s 209us/sample - loss: 0.0171 - acc: 0.9957\n"
     ]
    }
   ],
   "source": [
    "hist = model.fit(x, y, epochs=10, batch_size=1000)"
   ]
  },
  {
   "cell_type": "markdown",
   "metadata": {
    "colab_type": "text",
    "id": "mk8MZlftxw1q"
   },
   "source": []
  },
  {
   "cell_type": "code",
   "execution_count": 18,
   "metadata": {
    "colab": {
     "base_uri": "https://localhost:8080/",
     "height": 53
    },
    "colab_type": "code",
    "id": "CYXn-a0Q_oZF",
    "outputId": "8f6e59b9-555d-4f6a-f7a6-f1283d4f102c"
   },
   "outputs": [
    {
     "name": "stdout",
     "output_type": "stream",
     "text": [
      "5139/5139 [==============================] - 0s 52us/sample - loss: 0.1535 - acc: 0.9840\n"
     ]
    },
    {
     "data": {
      "text/plain": [
       "[0.15348630204092184, 0.9840436]"
      ]
     },
     "execution_count": 18,
     "metadata": {},
     "output_type": "execute_result"
    }
   ],
   "source": [
    "model.evaluate(x_test_lower, y_test_lower)"
   ]
  },
  {
   "cell_type": "markdown",
   "metadata": {},
   "source": [
    "### Freeze layers"
   ]
  },
  {
   "cell_type": "code",
   "execution_count": 19,
   "metadata": {
    "colab": {},
    "colab_type": "code",
    "id": "bK0klNWpYlkh"
   },
   "outputs": [],
   "source": [
    "model.layers[0].trainable = False  # only freeze layer #5, ideally freeze all\n",
    "model.layers[1].trainable = False  # only freeze layer #5, ideally freeze all\n",
    "model.layers[2].trainable = False  # only freeze layer #5, ideally freeze all\n",
    "model.layers[3].trainable = False  # only freeze layer #5, ideally freeze all\n",
    "model.layers[4].trainable = False  # only freeze layer #5, ideally freeze all"
   ]
  },
  {
   "cell_type": "code",
   "execution_count": null,
   "metadata": {
    "colab": {},
    "colab_type": "code",
    "id": "P9mkINc70Ekc"
   },
   "outputs": [],
   "source": [
    "# Warmup Training: if you add new layers with random weights,\n",
    "# freeze all preexisting ones first"
   ]
  },
  {
   "cell_type": "code",
   "execution_count": 20,
   "metadata": {
    "colab": {
     "base_uri": "https://localhost:8080/",
     "height": 35
    },
    "colab_type": "code",
    "id": "zS6OcLb10wNd",
    "outputId": "a89bf33e-1df4-4535-a0d2-1b92bfb87020"
   },
   "outputs": [
    {
     "data": {
      "text/plain": [
       "(29404, 28, 28)"
      ]
     },
     "execution_count": 20,
     "metadata": {},
     "output_type": "execute_result"
    }
   ],
   "source": [
    "xupper.shape"
   ]
  },
  {
   "cell_type": "code",
   "execution_count": 21,
   "metadata": {
    "colab": {
     "base_uri": "https://localhost:8080/",
     "height": 35
    },
    "colab_type": "code",
    "id": "BO4tnsI95Lz0",
    "outputId": "3bf15e23-a4d6-401f-a0d0-5ad7eb226c7f"
   },
   "outputs": [
    {
     "data": {
      "text/plain": [
       "((1000, 28, 28, 1), (1000, 5))"
      ]
     },
     "execution_count": 21,
     "metadata": {},
     "output_type": "execute_result"
    }
   ],
   "source": [
    "import numpy as np\n",
    "x2 = xupper.reshape(29404, 28, 28, 1)\n",
    "x2 = x2.astype(np.float32)[:1000]   # only use 1000 digits to re-fit\n",
    "y2 = to_categorical(yupper-5)[:1000]\n",
    "x2.shape, y2.shape"
   ]
  },
  {
   "cell_type": "code",
   "execution_count": 22,
   "metadata": {
    "colab": {
     "base_uri": "https://localhost:8080/",
     "height": 436
    },
    "colab_type": "code",
    "id": "ZIrg7m1i08Ac",
    "outputId": "5869c621-3bd3-401a-edd9-96cccbd642b7"
   },
   "outputs": [
    {
     "name": "stdout",
     "output_type": "stream",
     "text": [
      "WARNING:tensorflow:Discrepancy between trainable weights and collected trainable weights, did you set `model.trainable` without calling `model.compile` after ?\n",
      "Epoch 1/10\n",
      "1000/1000 [==============================] - 0s 186us/sample - loss: 1.7432 - acc: 0.6340\n",
      "Epoch 2/10\n",
      "1000/1000 [==============================] - 0s 160us/sample - loss: 0.3120 - acc: 0.9210\n",
      "Epoch 3/10\n",
      "1000/1000 [==============================] - 0s 158us/sample - loss: 0.1869 - acc: 0.9540\n",
      "Epoch 4/10\n",
      "1000/1000 [==============================] - 0s 161us/sample - loss: 0.1218 - acc: 0.9700\n",
      "Epoch 5/10\n",
      "1000/1000 [==============================] - 0s 162us/sample - loss: 0.0804 - acc: 0.9830\n",
      "Epoch 6/10\n",
      "1000/1000 [==============================] - 0s 170us/sample - loss: 0.0615 - acc: 0.9900\n",
      "Epoch 7/10\n",
      "1000/1000 [==============================] - 0s 176us/sample - loss: 0.0482 - acc: 0.9950\n",
      "Epoch 8/10\n",
      "1000/1000 [==============================] - 0s 159us/sample - loss: 0.0420 - acc: 0.9970\n",
      "Epoch 9/10\n",
      "1000/1000 [==============================] - 0s 159us/sample - loss: 0.0372 - acc: 0.9980\n",
      "Epoch 10/10\n",
      "1000/1000 [==============================] - 0s 162us/sample - loss: 0.0323 - acc: 0.9980\n"
     ]
    }
   ],
   "source": [
    "hist = model.fit(x2, y2, epochs=10, batch_size=100)"
   ]
  },
  {
   "cell_type": "code",
   "execution_count": 33,
   "metadata": {},
   "outputs": [
    {
     "data": {
      "text/plain": [
       "{'loss': [1.7432289004325867,\n",
       "  0.31196422427892684,\n",
       "  0.18686506934463978,\n",
       "  0.12181245759129525,\n",
       "  0.08038567071780563,\n",
       "  0.06147852847352624,\n",
       "  0.04818429020233452,\n",
       "  0.042028379952535035,\n",
       "  0.03720641077961773,\n",
       "  0.032347195269539955],\n",
       " 'acc': [0.634, 0.921, 0.954, 0.97, 0.983, 0.99, 0.995, 0.997, 0.998, 0.998]}"
      ]
     },
     "execution_count": 33,
     "metadata": {},
     "output_type": "execute_result"
    }
   ],
   "source": [
    "hist.history"
   ]
  },
  {
   "cell_type": "code",
   "execution_count": 32,
   "metadata": {},
   "outputs": [
    {
     "data": {
      "image/png": "[encoded data removed]",
      "text/plain": [
       "<Figure size 432x288 with 1 Axes>"
      ]
     },
     "metadata": {
      "needs_background": "light"
     },
     "output_type": "display_data"
    }
   ],
   "source": [
    "loss = hist.history['loss']\n",
    "accuracy = hist.history['acc']\n",
    "epochs = range(1,11)\n",
    "plt.plot(epochs, loss, 'g', label='Loss')\n",
    "plt.plot(epochs, accuracy, 'k', label='Accuracy')\n",
    "plt.title('Transfer Learning')\n",
    "plt.xlabel('Epochs')\n",
    "plt.legend()\n",
    "plt.show()"
   ]
  },
  {
   "cell_type": "markdown",
   "metadata": {
    "colab": {
     "base_uri": "https://localhost:8080/",
     "height": 287
    },
    "colab_type": "code",
    "id": "uEO48WwuYv_Y",
    "outputId": "7c2e33a0-3601-4d05-fcca-1adc21f7b73c"
   },
   "source": [
    "#### trained a CNN on half the mnist data set, ie digits 0-4\n",
    "#### once trained, all layers EXCEPT the last feature output layer were frozen\n",
    "#### now the CNN with ONLY these learned features was used to learn a new set of digits: 5-9\n",
    "### and lo and behold it did so very well!"
   ]
  },
  {
   "cell_type": "code",
   "execution_count": null,
   "metadata": {
    "colab": {},
    "colab_type": "code",
    "id": "LQJop9Yq0iF_"
   },
   "outputs": [],
   "source": []
  }
 ],
 "metadata": {
  "colab": {
   "collapsed_sections": [],
   "name": "Keras.ipynb",
   "provenance": []
  },
  "kernelspec": {
   "display_name": "Python 3",
   "language": "python",
   "name": "python3"
  },
  "language_info": {
   "codemirror_mode": {
    "name": "ipython",
    "version": 3
   },
   "file_extension": ".py",
   "mimetype": "text/x-python",
   "name": "python",
   "nbconvert_exporter": "python",
   "pygments_lexer": "ipython3",
   "version": "3.7.6"
  },
  "varInspector": {
   "cols": {
    "lenName": 16,
    "lenType": 16,
    "lenVar": 40
   },
   "kernels_config": {
    "python": {
     "delete_cmd_postfix": "",
     "delete_cmd_prefix": "del ",
     "library": "var_list.py",
     "varRefreshCmd": "print(var_dic_list())"
    },
    "r": {
     "delete_cmd_postfix": ") ",
     "delete_cmd_prefix": "rm(",
     "library": "var_list.r",
     "varRefreshCmd": "cat(var_dic_list()) "
    }
   },
   "types_to_exclude": [
    "module",
    "function",
    "builtin_function_or_method",
    "instance",
    "_Feature"
   ],
   "window_display": false
  }
 },
 "nbformat": 4,
 "nbformat_minor": 1
}
